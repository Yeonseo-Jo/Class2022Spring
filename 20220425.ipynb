{
  "nbformat": 4,
  "nbformat_minor": 0,
  "metadata": {
    "colab": {
      "name": "20220425.ipynb",
      "provenance": [],
      "authorship_tag": "ABX9TyNmrq4PjKJf6hOlA6Uk+/Kv",
      "include_colab_link": true
    },
    "kernelspec": {
      "name": "python3",
      "display_name": "Python 3"
    },
    "language_info": {
      "name": "python"
    }
  },
  "cells": [
    {
      "cell_type": "markdown",
      "metadata": {
        "id": "view-in-github",
        "colab_type": "text"
      },
      "source": [
        "<a href=\"https://colab.research.google.com/github/Yeonseo-Jo/Class2022Spring/blob/main/20220425.ipynb\" target=\"_parent\"><img src=\"https://colab.research.google.com/assets/colab-badge.svg\" alt=\"Open In Colab\"/></a>"
      ]
    },
    {
      "cell_type": "markdown",
      "source": [
        "Autocorreltion(자기상관함수)\n",
        "\n",
        "- 어떤 신호의 시간이동된 자기자신과의 상관성(Corelation) 척도\n",
        "\n",
        "- 어떤 무작위의 신호가 두 시각에 취하는 값의 상관관계를 나타내는 함수.\n",
        "\n",
        "- 동일한 시간 구간으로 나누어진 벡터로 구성된 시게열 자료에서 현재의 개체수가 이전의 개체수와 어떻게 연관이 되어 있는가를 나타낸것\n",
        " \n",
        "\n",
        "RMS (Root Mean Square)\n",
        "\n",
        "- 제곱평균제곱근, 언래의 값의 제곱들에 대한 산술평균(평균)의 제곱근\n",
        "\n",
        "- 변화하는 값의 크기에 대한 통계적 척도\n",
        "\n",
        "- 특히 사인함수처럼 변수들이 음과 양을 오고 갈 때에 유용하게 사요욈."
      ],
      "metadata": {
        "id": "1nzYzIORIO_2"
      }
    }
  ]
}