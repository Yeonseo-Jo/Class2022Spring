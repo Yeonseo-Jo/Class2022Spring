{
  "nbformat": 4,
  "nbformat_minor": 0,
  "metadata": {
    "colab": {
      "name": "tensorflow_hub.ipynb",
      "provenance": [],
      "include_colab_link": true
    },
    "kernelspec": {
      "name": "python3",
      "display_name": "Python 3"
    },
    "language_info": {
      "name": "python"
    }
  },
  "cells": [
    {
      "cell_type": "markdown",
      "metadata": {
        "id": "view-in-github",
        "colab_type": "text"
      },
      "source": [
        "<a href=\"https://colab.research.google.com/github/Yeonseo-Jo/Class2022Spring/blob/main/(16-1)%20tensorflow_hub.ipynb\" target=\"_parent\"><img src=\"https://colab.research.google.com/assets/colab-badge.svg\" alt=\"Open In Colab\"/></a>"
      ]
    },
    {
      "cell_type": "markdown",
      "source": [
        "### [Tensorflow Hub](https://www.tensorflow.org/hub)\n",
        "\n",
        "* Tensorflow : google에서 제공하는 AI(특히 NN)관련 패키지\n",
        "* Tensorflow hub: google에서 자체적으로 train AI 모델을 제공하는 사이트\n",
        "<br/>\n",
        "\n",
        "* <b> fine-tuning: pre-trained 된 모델이 있을 때, 나의 다른 데이터로 다른 방식으로 모델을 확장 시키는것</b>\n",
        "\n",
        " = cf. pre-trained : 기존에 어떤 사람이 모델을 훈련시켜 놓은것.\n",
        "\n",
        "* deployable  = 바로 사용하기\n",
        "<br/>\n",
        "\n",
        "* tenserflow hub 사용법: 필요한 라이브러리를 import하고 모델을 tenserflow hub에서 찾아 그 링크를 가져옴\n"
      ],
      "metadata": {
        "id": "8dnF4rJPatAo"
      }
    },
    {
      "cell_type": "markdown",
      "source": [
        "### image classification (e.g. [inception_v3](https://tfhub.dev/google/imagenet/inception_v3/classification/5))"
      ],
      "metadata": {
        "id": "soPd171Hbbma"
      }
    },
    {
      "cell_type": "code",
      "source": [
        "import tensorflow.compat.v2 as tf\n",
        "import tensorflow_hub as hub"
      ],
      "metadata": {
        "id": "VIJXaAwQ9lXX"
      },
      "execution_count": 1,
      "outputs": []
    },
    {
      "cell_type": "code",
      "source": [
        "model = hub.KerasLayer(\"https://tfhub.dev/google/imagenet/inception_v3/classification/5\")"
      ],
      "metadata": {
        "id": "vmzDkBCZZMF-"
      },
      "execution_count": 2,
      "outputs": []
    },
    {
      "cell_type": "code",
      "source": [
        "from PIL import Image                 #이미지 관련 라이브러리에서 이미지 가져오기\n",
        "import requests\n",
        "url = 'http://images.cocodataset.org/val2017/000000039769.jpg'\n",
        "image = Image.open(requests.get(url, stream=True).raw)       #type(image)=PIL라이브러리 형태 => numeric하게 input으로 쓸 수 있는 형태가 아직 아님"
      ],
      "metadata": {
        "id": "f3ztc_fNX79F"
      },
      "execution_count": 12,
      "outputs": []
    },
    {
      "cell_type": "code",
      "source": [
        "import numpy as np                      #이미지를 입력으로 넣기 위해서는 numpy 모듈을 이용해서 숫자열 형태로 만드는 전처리가 필요\n",
        "image = np.array(image)\n",
        "# reshape into shape [batch_size, height, width, num_channels]\n",
        "image = tf.reshape(image, [1, image.shape[0], image.shape[1], image.shape[2]])  #이미지는 3d array인데 모델의 input이 4d array 형태이므로 reshape 해 줌\n",
        "# Use `convert_image_dtype` to convert to floats in the [0,1] range.\n",
        "#(=사용하려는 모델이 0-1 사이의 float로 이루어진 4d array이므로 0-255의 flaot으로 이루어진 이미지의 array 형태를 바꿔줘야 함)\n",
        "image = tf.image.convert_image_dtype(image, tf.float32)"
      ],
      "metadata": {
        "id": "Bqm9LV1rC4eK"
      },
      "execution_count": 13,
      "outputs": []
    },
    {
      "cell_type": "code",
      "source": [
        "logits = model(image)\n",
        "print(logits,'\\n')\n",
        "np.argmax(logits) # => 1000개의 label 중 282번째(0번째부터 시작하므로 실제로는 232번째로 나오는!) label일 확률이 높다는 뜻"
      ],
      "metadata": {
        "id": "CRUy_pik9m3o",
        "outputId": "391b7ad7-111b-4770-a905-5e73aef2e93f",
        "colab": {
          "base_uri": "https://localhost:8080/"
        }
      },
      "execution_count": 16,
      "outputs": [
        {
          "output_type": "stream",
          "name": "stdout",
          "text": [
            "tf.Tensor(\n",
            "[[ 0.13278216 -0.98323435  0.4061772  ... -0.12934873  0.38595918\n",
            "   0.4459334 ]], shape=(1, 1001), dtype=float32) \n",
            "\n"
          ]
        },
        {
          "output_type": "execute_result",
          "data": {
            "text/plain": [
              "282"
            ]
          },
          "metadata": {},
          "execution_count": 16
        }
      ]
    },
    {
      "cell_type": "markdown",
      "source": [
        "> https://storage.googleapis.com/download.tensorflow.org/data/ImageNetLabels.txt"
      ],
      "metadata": {
        "id": "p7zLDQqWaGii"
      }
    }
  ]
}